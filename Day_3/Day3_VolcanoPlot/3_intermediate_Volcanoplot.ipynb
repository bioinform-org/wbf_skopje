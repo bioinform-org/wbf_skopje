{
  "cells": [
    {
      "attachments": {},
      "cell_type": "markdown",
      "metadata": {
        "id": "OIEWV-_h_cVt"
      },
      "source": [
        "# **Identifying differentially expressed genes involved in Tetralogy of Fallot**\n",
        "\n",
        "Tetralogy of Fallot (TOF) is a congenital heart defect that affects the structure of the heart and its ability to pump blood to the body (1). TOF is one of the most common forms of congenital heart disease, accounting for around 10% of all cases (2). The condition is characterized by a combination of four abnormalities in the heart: a ventricular septal defect (VSD), narrowing of the pulmonary artery (pulmonary stenosis), an enlarged aorta that overrides the VSD, and right ventricular hypertrophy (thickening of the muscle in the right ventricle) (3). These abnormalities can cause oxygen-poor blood to be pumped to the body, resulting in symptoms such as cyanosis (bluish discoloration of the skin), shortness of breath, and fatigue. While TOF is a serious condition, advances in medical treatment have greatly improved the long-term outlook for those born with the defect (4).\n",
        "\n",
        "Locating differentially expressed genes can provide valuable insights into the underlying biological mechanisms of Tetralogy of Fallot (TOF) and help identify potential therapeutic targets. Differentially expressed genes are genes that are expressed at different levels between affected individuals and healthy controls. These genes can be identified using techniques such as microarray analysis or RNA sequencing. \n",
        "\n",
        "In today's assignment we will use a dataset from the EMBL-EBI's Expression Atlas to locate differentially expressed genes for TOF (5, 6). You will visualize your results with a volcano plot. Let's get started!"
      ]
    },
    {
      "attachments": {},
      "cell_type": "markdown",
      "metadata": {
        "id": "n7qOrpyjxQbQ"
      },
      "source": [
        "**First run the following code to import some libraries that we will need.**"
      ]
    },
    {
      "cell_type": "code",
      "execution_count": 2,
      "metadata": {
        "id": "-8DFebGN_XOQ"
      },
      "outputs": [],
      "source": [
        "# importing libraries\n",
        "import pandas as pd\n",
        "import matplotlib.pylab as plt\n",
        "import numpy as np\n",
        "from scipy.stats import ttest_ind\n",
        "from sklearn.decomposition import PCA\n",
        "import seaborn as sns\n",
        "from sklearn.preprocessing import normalize\n",
        "from sklearn.preprocessing import StandardScaler\n"
      ]
    },
    {
      "attachments": {},
      "cell_type": "markdown",
      "metadata": {
        "id": "oy_jEwTlxZmU"
      },
      "source": [
        "#### **Exercise 3.1**\n",
        "\n",
        "First, we have to load two data files. One file depicts the normalize gene counts (`normalized_counts.csv`) and the other file the so-called experimental design (`experiment_design.txt`). \n",
        "The two files contain the following information:\n",
        "- Experimental design\n",
        "  - `Run`: ID for every separate patient.\n",
        "  - `disease`: gives information if the patient was healthy (`normal`) or affected (`Tetralogy of Fallot`).\n",
        "  - `Gene ID`: Separate identifier for every separate gene.\n",
        "  - `Gene Name`\n",
        "  - `Gene ID`\n",
        "  - `Gene Name`: depicting all measured genes\n",
        "  - Multiple columns starting with `SR...`: ID for every separate patient with ofcourse the corresponding gene count.\n",
        "\n",
        "Both files contain more information that we will not use for this assignment, but you can have a look if you are interested :)\n",
        "\n",
        "In order to work with the data we have to combine the two files:\n",
        "\n",
        "1. Read both files by using `pd.read_csv()`, you might have to think about what argument you pass to `sep` for both files.\n",
        "2. Transform the patient ID into \"long\" format. This means that instead of having a column for every patient you have one column with the different patient id's. You can do this with the function `pd.melt()`\n",
        "3. Merge both dataframes on the column `Run` (Which is the patient ID). \n",
        "4. Look at your merged dataframe and decide which information (or columns) you want to keep and select those for a new dataframe.\n",
        "\n",
        "*hint: Look at the documentation for the suggested functions to know how to use them.*"
      ]
    },
    {
      "cell_type": "code",
      "execution_count": null,
      "metadata": {
        "id": "aDKus1uFtqFk"
      },
      "outputs": [],
      "source": [
        "# 1. Reading files\n",
        "df_ = pd.read_csv('normalized_counts.csv')\n",
        "design = pd.read_csv('experiment_design.txt', sep='\\t')[['Run', 'disease']]\n",
        "\n",
        "# 2. Transforming file into long format\n",
        "df_ = df_.melt(id_vars=['Gene ID', 'Gene Name'], var_name='Run', value_name='geneCount')\n",
        "\n",
        "# 3. and 4. Merging and selection of columns\n",
        "df = df_.merge(design, on='Run')[['Gene ID', 'Gene Name', 'Run', 'geneCount', 'disease']]\n",
        "\n",
        "df"
      ]
    },
    {
      "attachments": {},
      "cell_type": "markdown",
      "metadata": {},
      "source": [
        "#### **Exercise 3.2**\n",
        "\n",
        "Principal component Analysis.\n",
        "\n",
        "Now that we loaded the data we can perform a PCA on the samples and then visualize the data, this will help us to understand if there is a difference in the 2 conditions based on RNA expression. In fact we expect that, based on expression profiling, the 2 samples will clusterize together, in this way we will know that the 2 groups (disease and non-disease) differs.\n",
        "\n",
        "In order to do this we will need to:\n",
        "- Groupby for Sample\n",
        "- Run PCA \n",
        "- Plot the results "
      ]
    },
    {
      "cell_type": "code",
      "execution_count": null,
      "metadata": {},
      "outputs": [],
      "source": [
        "# Groupby for patient \"Run\" keeping all the genes and the disease status\n",
        "\n"
      ]
    },
    {
      "cell_type": "code",
      "execution_count": null,
      "metadata": {},
      "outputs": [
        {
          "data": {
            "text/plain": [
              "array([[ 36.70015807,   0.        , 160.68717859, ...,   0.        ,\n",
              "          0.        ,   0.        ],\n",
              "       [ 42.65153506,   0.        ,  97.20582408, ...,   0.        ,\n",
              "          0.        ,   0.        ],\n",
              "       [ 31.74067725,   0.        ,  80.34358929, ...,   0.        ,\n",
              "          0.        ,   0.        ],\n",
              "       ...,\n",
              "       [130.47010481,   2.12146512, 240.78629099, ...,   0.        ,\n",
              "          0.        ,   0.        ],\n",
              "       [ 66.82615124,   0.        , 107.1339885 , ...,   0.        ,\n",
              "          0.        ,   0.        ],\n",
              "       [106.07325594,   0.        , 191.99259326, ...,   0.        ,\n",
              "          0.        ,   0.        ]])"
            ]
          },
          "metadata": {},
          "output_type": "display_data"
        }
      ],
      "source": [
        "# With this feature we will extract the numbers that reflects the expression of each gene (features) related to every sample, we will end up with a matrix (table) of \n",
        "# $n_samples x n_features$\n",
        "\n",
        "\n",
        "# Fill missing values of our features with 0\n"
      ]
    },
    {
      "cell_type": "code",
      "execution_count": null,
      "metadata": {},
      "outputs": [],
      "source": [
        "# Normalize and Standardize the samples (by row)\n"
      ]
    },
    {
      "cell_type": "code",
      "execution_count": null,
      "metadata": {},
      "outputs": [
        {
          "data": {
            "text/plain": [
              "array([[ 9.96919528e+00,  3.60694293e+01],\n",
              "       [-5.92670884e+00,  8.18183989e+01],\n",
              "       [ 1.15056654e+01,  8.65698420e+01],\n",
              "       [ 3.96074392e+01,  1.13665291e+02],\n",
              "       [ 5.14264793e+01,  1.06533381e+02],\n",
              "       [ 5.67604678e+01,  5.79096610e+01],\n",
              "       [-6.87948493e-01,  3.23374738e+01],\n",
              "       [ 6.29766113e-03, -5.58118919e+01],\n",
              "       [-3.25016511e+01,  2.70415129e+01],\n",
              "       [-5.22695984e+01, -1.24532536e+01],\n",
              "       [-4.56524591e+01, -2.78997502e+01],\n",
              "       [-8.98034251e+00,  1.91928399e+01],\n",
              "       [ 5.99357248e+00, -3.57800087e+01],\n",
              "       [-4.12860180e+01,  2.81695800e+01],\n",
              "       [-2.75563697e+01, -4.24939587e+01],\n",
              "       [-8.63949151e+00,  2.65209618e+00],\n",
              "       [-2.54462455e+01, -3.75119773e+01],\n",
              "       [ 6.71047625e+01, -9.18570414e+01],\n",
              "       [-5.09577434e+01, -9.07859449e+00],\n",
              "       [-3.29232678e+01, -1.20182133e+00],\n",
              "       [ 4.39938979e+01, -1.33733746e+01],\n",
              "       [-1.44147810e+01, -5.72639353e+01],\n",
              "       [-5.32137565e+01,  3.69968509e+01],\n",
              "       [-5.40319506e+01, -1.31268135e+00],\n",
              "       [ 1.92174761e+02, -6.07925974e+01],\n",
              "       [ 1.04718528e+02, -2.63573383e+01],\n",
              "       [-2.71141645e+01, -7.27956272e+01],\n",
              "       [-5.52205057e+01, -2.55466310e+01],\n",
              "       [-4.64380634e+01, -5.74258739e+01]])"
            ]
          },
          "metadata": {},
          "output_type": "display_data"
        }
      ],
      "source": [
        "# Run the PCA\n",
        "pca = PCA(n_components=2)\n",
        "\n",
        "\n",
        "rna_expression_reduced = \n"
      ]
    },
    {
      "cell_type": "code",
      "execution_count": null,
      "metadata": {},
      "outputs": [],
      "source": [
        "# Add the new features to new dataframe columns [pc1,pc2]\n",
        "\n",
        "df_samples['pc1'] = \n",
        "df_samples['pc2'] = \n"
      ]
    },
    {
      "cell_type": "code",
      "execution_count": null,
      "metadata": {},
      "outputs": [
        {
          "data": {
            "image/png": "[encoded data removed]",
            "text/plain": [
              "<Figure size 640x480 with 1 Axes>"
            ]
          },
          "metadata": {},
          "output_type": "display_data"
        }
      ],
      "source": [
        "# Plot the results\n",
        "sns.scatterplot(, x=,y=, hue=)\n",
        "plt.show()\n"
      ]
    },
    {
      "attachments": {},
      "cell_type": "markdown",
      "metadata": {
        "id": "2EE-oAV8xwGl"
      },
      "source": [
        "#### **Exercise 3.2**\n",
        "\n",
        "Now we have to clean up the data a bit and filter out low gene counts. \n",
        "\n",
        "1. Remove the rows in the dataframe that contain \"NaN\" values for the column `geneCount`.\n",
        "2. Remove the genes that have a **total sum** gene count under 100.000"
      ]
    },
    {
      "cell_type": "code",
      "execution_count": null,
      "metadata": {
        "colab": {
          "base_uri": "https://localhost:8080/"
        },
        "id": "248z7utgJ69q",
        "outputId": "e20619ba-2a85-44ec-bb3e-e06cc0db712b"
      },
      "outputs": [
        {
          "data": {
            "text/plain": [
              "8033"
            ]
          },
          "execution_count": 110,
          "metadata": {},
          "output_type": "execute_result"
        }
      ],
      "source": [
        "# 1. Removing NaN values\n",
        "\n",
        "\n",
        "# 2. Remove genes with low gene count\n"
      ]
    },
    {
      "attachments": {},
      "cell_type": "markdown",
      "metadata": {
        "id": "BOYv6dE7vTKe"
      },
      "source": [
        "#### **Exercise 3.3**\n",
        "\n",
        "Complete the missing parts in the following code block. The function is supposed to return the following two measures:\n",
        "\n",
        "Complete the code after the comment blocks for:\n",
        "\n",
        "1. Calculate the foldchange using the predefined variables and store in a new variable\n",
        "2. Use the Function `ttest_ind()` correctly and store the p-value in a new variable. (Read the documentation how to use the function `ttest_ind()`.\n",
        "3. Before you can store your foldchange and p-value into a new column, you need to transform both as follows:\n",
        "  - $log_{2} (FoldChange)$\n",
        "  - $-log_{10} (P value)$"
      ]
    },
    {
      "cell_type": "code",
      "execution_count": null,
      "metadata": {
        "id": "AVafFG7JtzCZ"
      },
      "outputs": [],
      "source": [
        "def p_val(x):\n",
        "\n",
        "    # Selecting the both disease conditions\n",
        "    tof = x[x.disease == 'Tetralogy of Fallot']['geneCount']\n",
        "    norm = x[x.disease == 'normal']['geneCount']\n",
        "\n",
        "    ## INSERT CODE HERE (1):\n",
        "    \n",
        "    \n",
        "    ## INSERT CODE HERE (2):\n",
        "    \n",
        "\n",
        "    ## INSERT CODE HERE (3):\n",
        "    x['foldChange'] =\n",
        "    x['pValue'] =\n",
        "\n",
        "    # Return your new results\n",
        "    return x"
      ]
    },
    {
      "attachments": {},
      "cell_type": "markdown",
      "metadata": {
        "id": "0iIo8q8q3Vf1"
      },
      "source": [
        "#### **Exercise 3.4**\n",
        "\n",
        "Next step is to apply the function to the dataframe, but we wil need to do this per `Gene Name`. There is a convenient function for this in pandas `groupby()`. Next we can apply the function to the dataframe by using the function `apply()`. These functions have to apply consequently though.\n",
        "\n",
        "Fill in the missing arguments to the next line\n",
        "1. Correct column name that we want to apply the grouping to.\n",
        "2. Fill in the function name to the `apply()` function.\n"
      ]
    },
    {
      "cell_type": "code",
      "execution_count": null,
      "metadata": {
        "id": "mM8MtlzEt2Wh"
      },
      "outputs": [],
      "source": [
        "df = df.groupby().apply(lambda x: )"
      ]
    },
    {
      "attachments": {},
      "cell_type": "markdown",
      "metadata": {
        "id": "MGGJgpzM9dM3"
      },
      "source": [
        "#### **Exercise 3.5**\n",
        "\n",
        "Now we come to the most fun part, plotting our results! In the following line you can see two parameters:\n",
        "\n",
        "- `fc_b`: this depicts the cut-off value for the $log_{2}(foldchange)$. This means that you will only see the Gene names appear that are either smaller than `-fc_b` or larger than `fc_b`.\n",
        "- `alpha`: The probability of incorrectly rejecting a true null hypothesis. We want our p-value to be smaller to be able to say that our two conditions are significantly different. By convention the value of 0.05 is most used for the alpha.\n",
        "\n",
        "Play around with both parameters and run both blocks of code to see what happens.\n",
        "\n",
        "When you have a nice collection of genes try to write a small report if the found genes make sense regarding the disease."
      ]
    },
    {
      "cell_type": "code",
      "execution_count": null,
      "metadata": {
        "id": "X3azfQ-Ct4zM"
      },
      "outputs": [],
      "source": [
        "fc_b =\n",
        "alpha ="
      ]
    },
    {
      "cell_type": "code",
      "execution_count": null,
      "metadata": {
        "colab": {
          "base_uri": "https://localhost:8080/",
          "height": 405
        },
        "id": "AkoAxwBzt69u",
        "outputId": "afdc5ddf-d07e-4ea5-aa3b-84336e83164c"
      },
      "outputs": [
        {
          "data": {
            "text/plain": [
              "<matplotlib.legend.Legend at 0x7f7b39c27ee0>"
            ]
          },
          "execution_count": 114,
          "metadata": {},
          "output_type": "execute_result"
        },
        {
          "data": {
            "image/png": "[encoded data removed]",
            "text/plain": [
              "<Figure size 648x432 with 1 Axes>"
            ]
          },
          "metadata": {
            "needs_background": "light"
          },
          "output_type": "display_data"
        }
      ],
      "source": [
        "# Initialize figure\n",
        "plt.figure(figsize=(9,6))\n",
        "\n",
        "# log transform the alpha value\n",
        "p_b = -np.log10(alpha)\n",
        "\n",
        "# Start with plotting all points\n",
        "plt.scatter(x=df['foldChange'], y=df['pValue'], s=1, label=\"Not significant\")\n",
        "\n",
        "# highlight down- or up- regulated genes\n",
        "down = df[(df['foldChange'] <= -fc_b) & (df['pValue'] >= p_b)]\n",
        "up = df[(df['foldChange'] >= fc_b) & (df['pValue'] >= p_b)]\n",
        "plt.scatter(x=down['foldChange'], y=down['pValue'],s=3, label=\"Down-regulated\",color=\"blue\")\n",
        "plt.scatter(x=up['foldChange'], y=up['pValue'], s=3, label=\"Up-regulated\",color=\"red\")\n",
        "\n",
        "# Add text to highlighted genes\n",
        "for i, r in up.iterrows():\n",
        "    plt.text(x=r['foldChange'], y=r['pValue'], s=r['Gene Name'])\n",
        "    \n",
        "for i, r in down.iterrows():\n",
        "    plt.text(x=r['foldChange'], y=r['pValue'], s=r['Gene Name'])\n",
        "\n",
        "# Plot layout\n",
        "plt.xlabel(\"log2 FC\")\n",
        "plt.ylabel(\"-log10 p-value\")\n",
        "plt.axvline(-fc_b, color=\"grey\",linestyle=\"--\")\n",
        "plt.axvline(fc_b, color=\"grey\",linestyle=\"--\")\n",
        "plt.axhline(p_b, color=\"grey\",linestyle=\"--\")\n",
        "plt.legend()"
      ]
    },
    {
      "attachments": {},
      "cell_type": "markdown",
      "metadata": {
        "id": "RkAzyMws_g0K"
      },
      "source": [
        "References:\n",
        "\n",
        "1. American Heart Association. (2022). Tetralogy of Fallot. Retrieved from https://www.heart.org/en/health-topics/congenital-heart-defects/about-congenital-heart-defects/tetralogy-of-fallot\n",
        "2. Centers for Disease Control and Prevention. (2022). Facts about Tetralogy of Fallot. Retrieved from https://www.cdc.gov/ncbddd/heartdefects/tetralogyoffallot.html\n",
        "4. Mayo Clinic. (2022). Tetralogy of Fallot. Retrieved from https://www.mayoclinic.org/diseases-conditions/tetralogy-of-fallot/symptoms-causes/syc-20353477\n",
        "4. Mocarski, M., & Bilek, L. (2021). Tetralogy of Fallot. StatPearls [Internet]. Retrieved from https://www.ncbi.nlm.nih.gov/books/NBK513263/\n",
        "5. Expression Atlas (EMBI-EBI). Retrieved from https://www.ebi.ac.uk/gxa/home\n",
        "6. Grunert M, Dorn C, Schueler M, Dunkel I, Schlesinger J et al. (2014) Rare and private variations in neural crest, apoptosis and sarcomere genes define the polygenic background of isolated Tetralogy of Fallot.\n"
      ]
    }
  ],
  "metadata": {
    "colab": {
      "provenance": []
    },
    "kernelspec": {
      "display_name": "KG",
      "language": "python",
      "name": "kg"
    },
    "language_info": {
      "codemirror_mode": {
        "name": "ipython",
        "version": 3
      },
      "file_extension": ".py",
      "mimetype": "text/x-python",
      "name": "python",
      "nbconvert_exporter": "python",
      "pygments_lexer": "ipython3",
      "version": "3.11.2"
    }
  },
  "nbformat": 4,
  "nbformat_minor": 0
}
