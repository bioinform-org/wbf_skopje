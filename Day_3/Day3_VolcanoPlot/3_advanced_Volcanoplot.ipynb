{
  "cells": [
    {
      "attachments": {},
      "cell_type": "markdown",
      "metadata": {
        "id": "OIEWV-_h_cVt"
      },
      "source": [
        "# **Identifying differentially expressed genes involved in Tetralogy of Fallot**\n",
        "\n",
        "Tetralogy of Fallot (TOF) is a congenital heart defect that affects the structure of the heart and its ability to pump blood to the body (1). TOF is one of the most common forms of congenital heart disease, accounting for around 10% of all cases (2). The condition is characterized by a combination of four abnormalities in the heart: a ventricular septal defect (VSD), narrowing of the pulmonary artery (pulmonary stenosis), an enlarged aorta that overrides the VSD, and right ventricular hypertrophy (thickening of the muscle in the right ventricle) (3). These abnormalities can cause oxygen-poor blood to be pumped to the body, resulting in symptoms such as cyanosis (bluish discoloration of the skin), shortness of breath, and fatigue. While TOF is a serious condition, advances in medical treatment have greatly improved the long-term outlook for those born with the defect (4).\n",
        "\n",
        "Locating differentially expressed genes can provide valuable insights into the underlying biological mechanisms of Tetralogy of Fallot (TOF) and help identify potential therapeutic targets. Differentially expressed genes are genes that are expressed at different levels between affected individuals and healthy controls. These genes can be identified using techniques such as microarray analysis or RNA sequencing. \n",
        "\n",
        "In today's assignment we will use a dataset from the EMBL-EBI's Expression Atlas to locate differentially expressed genes for TOF (5, 6). You will visualize your results with a volcano plot. Let's get started!"
      ]
    },
    {
      "attachments": {},
      "cell_type": "markdown",
      "metadata": {
        "id": "n7qOrpyjxQbQ"
      },
      "source": [
        "**First run the following code to import some libraries that could be useful**"
      ]
    },
    {
      "cell_type": "code",
      "execution_count": null,
      "metadata": {
        "id": "-8DFebGN_XOQ"
      },
      "outputs": [],
      "source": [
        "# importing libraries\n",
        "import pandas as pd\n",
        "import matplotlib.pylab as plt\n",
        "import numpy as np\n",
        "from scipy.stats import ttest_ind\n",
        "from sklearn.decomposition import PCA\n",
        "import seaborn as sns\n",
        "from sklearn.preprocessing import normalize\n",
        "from sklearn.preprocessing import StandardScaler"
      ]
    },
    {
      "attachments": {},
      "cell_type": "markdown",
      "metadata": {
        "id": "oy_jEwTlxZmU"
      },
      "source": [
        "#### **Exercise 3.1**\n",
        "\n",
        "First, we have to load two data files. One file depicts the normalize gene counts (`normalized_counts.csv`) and the other file the so-called experimental design (`experiment_design.txt`). \n",
        "The two files contain the following information:\n",
        "- Experimental design\n",
        "  - `Run`: ID for every separate patient.\n",
        "  - `disease`: gives information if the patient was healthy (`normal`) or affected (`Tetralogy of Fallot`).\n",
        "  - `Gene ID`: Separate identifier for every separate gene.\n",
        "  - `Gene Name`\n",
        "  - `Gene ID`\n",
        "  - `Gene Name`: depicting all measured genes\n",
        "  - Multiple columns starting with `SR...`: ID for every separate patient with ofcourse the corresponding gene count.\n",
        "\n",
        "Both files contain more information that we will not use for this assignment, but you can have a look if you are interested :)\n",
        "\n",
        "In order to work with the data we have to combine the two files:\n",
        "\n",
        "1. Read both files.\n",
        "2. Merge both dataframes into one dataframe. Think a little bit about what is the best way to store/represent the data.\n"
      ]
    },
    {
      "attachments": {},
      "cell_type": "markdown",
      "metadata": {},
      "source": [
        "#### **Exercise 3.2**\n",
        "\n",
        "Principal component Analysis.\n",
        "\n",
        "Now that we loaded the data we can perform a PCA on the samples and then visualize the data, this will help us to understand if there is a difference in the 2 conditions based on RNA expression. In fact we expect that, based on expression profiling, the 2 samples will clusterize together, in this way we will know that the 2 groups (disease and non-disease) differs.\n",
        "\n",
        "In order to do this we will need to:\n",
        "- Groupby for Sample\n",
        "- fill the missing values with 0 \n",
        "- Normalize and standardize the features\n",
        "- Run PCA \n",
        "- Plot the results "
      ]
    },
    {
      "cell_type": "code",
      "execution_count": null,
      "metadata": {
        "id": "aDKus1uFtqFk"
      },
      "outputs": [],
      "source": []
    },
    {
      "attachments": {},
      "cell_type": "markdown",
      "metadata": {
        "id": "2EE-oAV8xwGl"
      },
      "source": [
        "#### **Exercise 3.2**\n",
        "\n",
        "Now we have to clean up the data a bit and filter out low gene counts. \n",
        "\n",
        "1. Remove the rows in the dataframe that contain \"NaN\" values for the column `geneCount`.\n",
        "2. Remove the genes that have a **total sum** gene count under 100.000"
      ]
    },
    {
      "cell_type": "code",
      "execution_count": null,
      "metadata": {
        "colab": {
          "base_uri": "https://localhost:8080/"
        },
        "id": "248z7utgJ69q",
        "outputId": "e20619ba-2a85-44ec-bb3e-e06cc0db712b"
      },
      "outputs": [
        {
          "data": {
            "text/plain": [
              "8033"
            ]
          },
          "execution_count": 110,
          "metadata": {},
          "output_type": "execute_result"
        }
      ],
      "source": []
    },
    {
      "attachments": {},
      "cell_type": "markdown",
      "metadata": {
        "id": "BOYv6dE7vTKe"
      },
      "source": [
        "#### **Exercise 3.3**\n",
        "\n",
        "Define a function that can do the following:\n",
        "\n",
        "1. Calculate the foldchange for the two disease conditions\n",
        "2. Calculate the p-value using `ttest_ind()` for the two disease conditions.\n",
        "3. Transform both as follows:\n",
        "  - $log_{2} (FoldChange)$\n",
        "  - $-log_{10} (P value)$\n",
        "4. Return both those values"
      ]
    },
    {
      "cell_type": "code",
      "execution_count": null,
      "metadata": {
        "id": "AVafFG7JtzCZ"
      },
      "outputs": [],
      "source": []
    },
    {
      "attachments": {},
      "cell_type": "markdown",
      "metadata": {
        "id": "0iIo8q8q3Vf1"
      },
      "source": [
        "#### **Exercise 3.4**\n",
        "\n",
        "Apply your function to the data, but make sure that you wil do it per gene. "
      ]
    },
    {
      "cell_type": "code",
      "execution_count": null,
      "metadata": {
        "id": "mM8MtlzEt2Wh"
      },
      "outputs": [],
      "source": []
    },
    {
      "attachments": {},
      "cell_type": "markdown",
      "metadata": {
        "id": "MGGJgpzM9dM3"
      },
      "source": [
        "#### **Exercise 3.5**\n",
        "\n",
        "Now we come to the most fun part, plotting our results! In the following line you can see two parameters:\n",
        "\n",
        "- `fc_b`: this depicts the cut-off value for the $log_{2}(foldchange)$. This means that you will only see the Gene names appear that are either smaller than `-fc_b` or larger than `fc_b`.\n",
        "- `alpha`: The probability of incorrectly rejecting a true null hypothesis. We want our p-value to be smaller to be able to say that our two conditions are significantly different. By convention the value of 0.05 is most used for the alpha.\n",
        "\n",
        "Play around with both parameters and run both blocks of code to see what happens.\n",
        "\n",
        "When you have a nice collection of genes try to write a small report if the found genes make sense regarding the disease."
      ]
    },
    {
      "cell_type": "code",
      "execution_count": null,
      "metadata": {
        "id": "X3azfQ-Ct4zM"
      },
      "outputs": [],
      "source": [
        "fc_b = \n",
        "alpha = "
      ]
    },
    {
      "cell_type": "code",
      "execution_count": null,
      "metadata": {
        "colab": {
          "base_uri": "https://localhost:8080/",
          "height": 405
        },
        "id": "AkoAxwBzt69u",
        "outputId": "afdc5ddf-d07e-4ea5-aa3b-84336e83164c"
      },
      "outputs": [
        {
          "data": {
            "text/plain": [
              "<matplotlib.legend.Legend at 0x7f7b39c27ee0>"
            ]
          },
          "execution_count": 114,
          "metadata": {},
          "output_type": "execute_result"
        },
        {
          "data": {
            "image/png": "[encoded data removed]",
            "text/plain": [
              "<Figure size 648x432 with 1 Axes>"
            ]
          },
          "metadata": {
            "needs_background": "light"
          },
          "output_type": "display_data"
        }
      ],
      "source": [
        "# Initialize figure\n",
        "plt.figure(figsize=(9,6))\n",
        "\n",
        "# log transform the alpha value\n",
        "p_b = -np.log10(alpha)\n",
        "\n",
        "# Start with plotting all points\n",
        "plt.scatter(x=df['foldChange'], y=df['pValue'], s=1, label=\"Not significant\")\n",
        "\n",
        "# highlight down- or up- regulated genes\n",
        "down = df[(df['foldChange'] <= -fc_b) & (df['pValue'] >= p_b)]\n",
        "up = df[(df['foldChange'] >= fc_b) & (df['pValue'] >= p_b)]\n",
        "plt.scatter(x=down['foldChange'], y=down['pValue'],s=3, label=\"Down-regulated\",color=\"blue\")\n",
        "plt.scatter(x=up['foldChange'], y=up['pValue'], s=3, label=\"Up-regulated\",color=\"red\")\n",
        "\n",
        "# Add text to highlighted genes\n",
        "for i, r in up.iterrows():\n",
        "    plt.text(x=r['foldChange'], y=r['pValue'], s=r['Gene Name'])\n",
        "    \n",
        "for i, r in down.iterrows():\n",
        "    plt.text(x=r['foldChange'], y=r['pValue'], s=r['Gene Name'])\n",
        "\n",
        "# Plot layout\n",
        "plt.xlabel(\"log2 FC\")\n",
        "plt.ylabel(\"-log10 p-value\")\n",
        "plt.axvline(-fc_b, color=\"grey\",linestyle=\"--\")\n",
        "plt.axvline(fc_b, color=\"grey\",linestyle=\"--\")\n",
        "plt.axhline(p_b, color=\"grey\",linestyle=\"--\")\n",
        "plt.legend()"
      ]
    },
    {
      "attachments": {},
      "cell_type": "markdown",
      "metadata": {
        "id": "RkAzyMws_g0K"
      },
      "source": [
        "References:\n",
        "\n",
        "1. American Heart Association. (2022). Tetralogy of Fallot. Retrieved from https://www.heart.org/en/health-topics/congenital-heart-defects/about-congenital-heart-defects/tetralogy-of-fallot\n",
        "2. Centers for Disease Control and Prevention. (2022). Facts about Tetralogy of Fallot. Retrieved from https://www.cdc.gov/ncbddd/heartdefects/tetralogyoffallot.html\n",
        "4. Mayo Clinic. (2022). Tetralogy of Fallot. Retrieved from https://www.mayoclinic.org/diseases-conditions/tetralogy-of-fallot/symptoms-causes/syc-20353477\n",
        "4. Mocarski, M., & Bilek, L. (2021). Tetralogy of Fallot. StatPearls [Internet]. Retrieved from https://www.ncbi.nlm.nih.gov/books/NBK513263/\n",
        "5. Expression Atlas (EMBI-EBI). Retrieved from https://www.ebi.ac.uk/gxa/home\n",
        "6. Grunert M, Dorn C, Schueler M, Dunkel I, Schlesinger J et al. (2014) Rare and private variations in neural crest, apoptosis and sarcomere genes define the polygenic background of isolated Tetralogy of Fallot.\n"
      ]
    }
  ],
  "metadata": {
    "colab": {
      "provenance": []
    },
    "kernelspec": {
      "display_name": "Python 3",
      "name": "python3"
    },
    "language_info": {
      "name": "python"
    }
  },
  "nbformat": 4,
  "nbformat_minor": 0
}
