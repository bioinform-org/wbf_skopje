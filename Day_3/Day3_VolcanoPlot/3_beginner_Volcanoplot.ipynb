{
  "cells": [
    {
      "attachments": {},
      "cell_type": "markdown",
      "metadata": {
        "id": "OIEWV-_h_cVt"
      },
      "source": [
        "# **Identifying differentially expressed genes involved in Tetralogy of Fallot**\n",
        "\n",
        "Tetralogy of Fallot (TOF) is a congenital heart defect that affects the structure of the heart and its ability to pump blood to the body (1). TOF is one of the most common forms of congenital heart disease, accounting for around 10% of all cases (2). The condition is characterized by a combination of four abnormalities in the heart: a ventricular septal defect (VSD), narrowing of the pulmonary artery (pulmonary stenosis), an enlarged aorta that overrides the VSD, and right ventricular hypertrophy (thickening of the muscle in the right ventricle) (3). These abnormalities can cause oxygen-poor blood to be pumped to the body, resulting in symptoms such as cyanosis (bluish discoloration of the skin), shortness of breath, and fatigue. While TOF is a serious condition, advances in medical treatment have greatly improved the long-term outlook for those born with the defect (4).\n",
        "\n",
        "Locating differentially expressed genes can provide valuable insights into the underlying biological mechanisms of Tetralogy of Fallot (TOF) and help identify potential therapeutic targets. Differentially expressed genes are genes that are expressed at different levels between affected individuals and healthy controls. These genes can be identified using techniques such as microarray analysis or RNA sequencing. \n",
        "\n",
        "In today's assignment we will use a dataset from the EMBL-EBI's Expression Atlas to locate differentially expressed genes for TOF (5, 6). You will visualize your results with a volcano plot. Let's get started!"
      ]
    },
    {
      "attachments": {},
      "cell_type": "markdown",
      "metadata": {
        "id": "n7qOrpyjxQbQ"
      },
      "source": [
        "**First run the following code to import some libraries that we will need.**"
      ]
    },
    {
      "cell_type": "code",
      "execution_count": 5,
      "metadata": {
        "id": "-8DFebGN_XOQ"
      },
      "outputs": [],
      "source": [
        "# importing libraries\n",
        "import pandas as pd\n",
        "import matplotlib.pylab as plt\n",
        "import numpy as np\n",
        "from scipy.stats import ttest_ind\n",
        "from sklearn.decomposition import PCA\n",
        "import seaborn as sns\n",
        "from sklearn.preprocessing import normalize\n",
        "from sklearn.preprocessing import StandardScaler\n"
      ]
    },
    {
      "attachments": {},
      "cell_type": "markdown",
      "metadata": {
        "id": "oy_jEwTlxZmU"
      },
      "source": [
        "#### **Exercise 3.1**\n",
        "\n",
        "First, we have to load the data file called harmonized_counts.csv \n",
        "It contains the following information:\n",
        "- Experimental design\n",
        "  - `Run`: ID for every separate patient.\n",
        "  - `disease`: gives information if the patient was healthy (`normal`) or affected (`Tetralogy of Fallot`).\n",
        "  - `Gene ID`: Separate identifier for every separate gene.\n",
        "  - `Gene Name`: depicting all measured genes\n",
        "\n",
        "The csv format is a \"comma separated file\" in wich columns are separated with a comma, if we open this with a text editor we would be capable of see it, but pandas has implemented the function already in order to load this data format and display it directly as a table.\n",
        "\n",
        "\n",
        "Let's look a t the documentation of What does the function `pd.read_csv()`\n"
      ]
    },
    {
      "cell_type": "code",
      "execution_count": 27,
      "metadata": {
        "id": "aDKus1uFtqFk"
      },
      "outputs": [
        {
          "data": {
            "text/html": [
              "<div>\n",
              "<style scoped>\n",
              "    .dataframe tbody tr th:only-of-type {\n",
              "        vertical-align: middle;\n",
              "    }\n",
              "\n",
              "    .dataframe tbody tr th {\n",
              "        vertical-align: top;\n",
              "    }\n",
              "\n",
              "    .dataframe thead th {\n",
              "        text-align: right;\n",
              "    }\n",
              "</style>\n",
              "<table border=\"1\" class=\"dataframe\">\n",
              "  <thead>\n",
              "    <tr style=\"text-align: right;\">\n",
              "      <th></th>\n",
              "      <th>Gene ID</th>\n",
              "      <th>Gene Name</th>\n",
              "      <th>Run</th>\n",
              "      <th>geneCount</th>\n",
              "      <th>disease</th>\n",
              "    </tr>\n",
              "  </thead>\n",
              "  <tbody>\n",
              "    <tr>\n",
              "      <th>0</th>\n",
              "      <td>ENSG00000000003</td>\n",
              "      <td>TSPAN6</td>\n",
              "      <td>SRR448087</td>\n",
              "      <td>36.700158</td>\n",
              "      <td>normal</td>\n",
              "    </tr>\n",
              "    <tr>\n",
              "      <th>1</th>\n",
              "      <td>ENSG00000000005</td>\n",
              "      <td>TNMD</td>\n",
              "      <td>SRR448087</td>\n",
              "      <td>0.000000</td>\n",
              "      <td>normal</td>\n",
              "    </tr>\n",
              "    <tr>\n",
              "      <th>2</th>\n",
              "      <td>ENSG00000000419</td>\n",
              "      <td>DPM1</td>\n",
              "      <td>SRR448087</td>\n",
              "      <td>160.687179</td>\n",
              "      <td>normal</td>\n",
              "    </tr>\n",
              "    <tr>\n",
              "      <th>3</th>\n",
              "      <td>ENSG00000000457</td>\n",
              "      <td>SCYL3</td>\n",
              "      <td>SRR448087</td>\n",
              "      <td>32.732573</td>\n",
              "      <td>normal</td>\n",
              "    </tr>\n",
              "    <tr>\n",
              "      <th>4</th>\n",
              "      <td>ENSG00000000460</td>\n",
              "      <td>C1orf112</td>\n",
              "      <td>SRR448087</td>\n",
              "      <td>6.943273</td>\n",
              "      <td>normal</td>\n",
              "    </tr>\n",
              "    <tr>\n",
              "      <th>...</th>\n",
              "      <td>...</td>\n",
              "      <td>...</td>\n",
              "      <td>...</td>\n",
              "      <td>...</td>\n",
              "      <td>...</td>\n",
              "    </tr>\n",
              "    <tr>\n",
              "      <th>1703310</th>\n",
              "      <td>ENSG00000285990</td>\n",
              "      <td>NBEAP6</td>\n",
              "      <td>SRR448116</td>\n",
              "      <td>0.000000</td>\n",
              "      <td>Tetralogy of Fallot</td>\n",
              "    </tr>\n",
              "    <tr>\n",
              "      <th>1703311</th>\n",
              "      <td>ENSG00000285991</td>\n",
              "      <td>NaN</td>\n",
              "      <td>SRR448116</td>\n",
              "      <td>NaN</td>\n",
              "      <td>Tetralogy of Fallot</td>\n",
              "    </tr>\n",
              "    <tr>\n",
              "      <th>1703312</th>\n",
              "      <td>ENSG00000285992</td>\n",
              "      <td>NaN</td>\n",
              "      <td>SRR448116</td>\n",
              "      <td>NaN</td>\n",
              "      <td>Tetralogy of Fallot</td>\n",
              "    </tr>\n",
              "    <tr>\n",
              "      <th>1703313</th>\n",
              "      <td>ENSG00000285993</td>\n",
              "      <td>NaN</td>\n",
              "      <td>SRR448116</td>\n",
              "      <td>NaN</td>\n",
              "      <td>Tetralogy of Fallot</td>\n",
              "    </tr>\n",
              "    <tr>\n",
              "      <th>1703314</th>\n",
              "      <td>ENSG00000285994</td>\n",
              "      <td>NaN</td>\n",
              "      <td>SRR448116</td>\n",
              "      <td>NaN</td>\n",
              "      <td>Tetralogy of Fallot</td>\n",
              "    </tr>\n",
              "  </tbody>\n",
              "</table>\n",
              "<p>1703315 rows × 5 columns</p>\n",
              "</div>"
            ],
            "text/plain": [
              "                 Gene ID Gene Name        Run   geneCount              disease\n",
              "0        ENSG00000000003    TSPAN6  SRR448087   36.700158               normal\n",
              "1        ENSG00000000005      TNMD  SRR448087    0.000000               normal\n",
              "2        ENSG00000000419      DPM1  SRR448087  160.687179               normal\n",
              "3        ENSG00000000457     SCYL3  SRR448087   32.732573               normal\n",
              "4        ENSG00000000460  C1orf112  SRR448087    6.943273               normal\n",
              "...                  ...       ...        ...         ...                  ...\n",
              "1703310  ENSG00000285990    NBEAP6  SRR448116    0.000000  Tetralogy of Fallot\n",
              "1703311  ENSG00000285991       NaN  SRR448116         NaN  Tetralogy of Fallot\n",
              "1703312  ENSG00000285992       NaN  SRR448116         NaN  Tetralogy of Fallot\n",
              "1703313  ENSG00000285993       NaN  SRR448116         NaN  Tetralogy of Fallot\n",
              "1703314  ENSG00000285994       NaN  SRR448116         NaN  Tetralogy of Fallot\n",
              "\n",
              "[1703315 rows x 5 columns]"
            ]
          },
          "execution_count": 27,
          "metadata": {},
          "output_type": "execute_result"
        }
      ],
      "source": [
        "df = pd.read_csv('harmonized_counts.csv',index_col=0)\n",
        "df"
      ]
    },
    {
      "attachments": {},
      "cell_type": "markdown",
      "metadata": {},
      "source": [
        "#### **Exercise 3.3**\n",
        "\n",
        "Principal component Analysis.\n",
        "\n",
        "Now that we loaded the data we can perform a PCA on the samples and then visualize the data, this will help us to understand if there is a difference in the 2 conditions based on RNA expression. In fact we expect that, based on expression profiling, the 2 samples will clusterize together, in this way we will know that the 2 groups (disease and non-disease) differs.\n",
        "\n",
        "In order to do this we will need to:\n",
        "- Groupby for Sample\n",
        "- Run PCA \n",
        "- Plot the results "
      ]
    },
    {
      "cell_type": "code",
      "execution_count": 7,
      "metadata": {},
      "outputs": [],
      "source": [
        "# Groupby\n",
        "df_samples = df.groupby('Run').agg({'geneCount':list,\n",
        "                                    'disease':'first'})\n",
        "\n"
      ]
    },
    {
      "attachments": {},
      "cell_type": "markdown",
      "metadata": {},
      "source": [
        " Try to think: what is describing my samples? What are the so called features? How many **dimensions** do we have? Can I plot data as they are? "
      ]
    },
    {
      "cell_type": "code",
      "execution_count": 8,
      "metadata": {},
      "outputs": [
        {
          "data": {
            "text/plain": [
              "array([[ 36.70015807,   0.        , 160.68717859, ...,   0.        ,\n",
              "          0.        ,   0.        ],\n",
              "       [ 42.65153506,   0.        ,  97.20582408, ...,   0.        ,\n",
              "          0.        ,   0.        ],\n",
              "       [ 31.74067725,   0.        ,  80.34358929, ...,   0.        ,\n",
              "          0.        ,   0.        ],\n",
              "       ...,\n",
              "       [130.47010481,   2.12146512, 240.78629099, ...,   0.        ,\n",
              "          0.        ,   0.        ],\n",
              "       [ 66.82615124,   0.        , 107.1339885 , ...,   0.        ,\n",
              "          0.        ,   0.        ],\n",
              "       [106.07325594,   0.        , 191.99259326, ...,   0.        ,\n",
              "          0.        ,   0.        ]])"
            ]
          },
          "execution_count": 8,
          "metadata": {},
          "output_type": "execute_result"
        }
      ],
      "source": [
        "# With this feature we will extract the numbers that reflects the expression of each gene (features) related to every sample, we will end up with a matrix (table) of \n",
        "# $n_samples x n_features$\n",
        "\n",
        "rna_expression_multidimensional = np.stack(df_samples.geneCount.values) \n",
        "\n",
        "# Fill missing values of our features with 0\n",
        "rna_expression_multidimensional[np.isnan(rna_expression_multidimensional)] = 0\n",
        "\n",
        "rna_expression_multidimensional"
      ]
    },
    {
      "cell_type": "code",
      "execution_count": 19,
      "metadata": {},
      "outputs": [],
      "source": [
        "std = StandardScaler()\n",
        "\n",
        "rna_expression_multidimensional_norm = normalize(rna_expression_multidimensional,axis=0)\n",
        "rna_expression_multidimensional_norm_stand =std.fit_transform(rna_expression_multidimensional_norm.T).T"
      ]
    },
    {
      "cell_type": "code",
      "execution_count": 20,
      "metadata": {},
      "outputs": [
        {
          "data": {
            "text/plain": [
              "array([[ 1.00272979e+01,  3.60309329e+01],\n",
              "       [-5.88806789e+00,  8.20021362e+01],\n",
              "       [ 1.15066291e+01,  8.64741562e+01],\n",
              "       [ 3.95875970e+01,  1.13638606e+02],\n",
              "       [ 5.14246229e+01,  1.06506946e+02],\n",
              "       [ 5.67571477e+01,  5.79367305e+01],\n",
              "       [-7.27351553e-01,  3.23238100e+01],\n",
              "       [ 4.18801018e-02, -5.57137971e+01],\n",
              "       [-3.24786739e+01,  2.71110698e+01],\n",
              "       [-5.22649110e+01, -1.24002646e+01],\n",
              "       [-4.56413832e+01, -2.79562601e+01],\n",
              "       [-8.96130656e+00,  1.91331540e+01],\n",
              "       [ 6.04355282e+00, -3.57157495e+01],\n",
              "       [-4.13089543e+01,  2.82106311e+01],\n",
              "       [-2.76157101e+01, -4.25620318e+01],\n",
              "       [-8.71658103e+00,  2.66527724e+00],\n",
              "       [-2.54101691e+01, -3.75824319e+01],\n",
              "       [ 6.70946230e+01, -9.18591332e+01],\n",
              "       [-5.09644108e+01, -8.95906736e+00],\n",
              "       [-3.29479149e+01, -1.21679277e+00],\n",
              "       [ 4.40461140e+01, -1.33859707e+01],\n",
              "       [-1.44070676e+01, -5.72768981e+01],\n",
              "       [-5.33009490e+01,  3.68404281e+01],\n",
              "       [-5.40203977e+01, -1.24681371e+00],\n",
              "       [ 1.92109384e+02, -6.07904756e+01],\n",
              "       [ 1.04785763e+02, -2.63442367e+01],\n",
              "       [-2.71719034e+01, -7.28637162e+01],\n",
              "       [-5.51935325e+01, -2.55978318e+01],\n",
              "       [-4.64053264e+01, -5.74024067e+01]])"
            ]
          },
          "execution_count": 20,
          "metadata": {},
          "output_type": "execute_result"
        }
      ],
      "source": [
        "pca = PCA(n_components=2)\n",
        "\n",
        "\n",
        "rna_expression_reduced = pca.fit_transform(rna_expression_multidimensional_norm_stand)\n",
        "\n",
        "rna_expression_reduced"
      ]
    },
    {
      "cell_type": "code",
      "execution_count": 21,
      "metadata": {},
      "outputs": [],
      "source": [
        "# Add the new features to new dataframe columns [pc1,pc2]\n",
        "\n",
        "df_samples['pc1'] = rna_expression_reduced[:,0]\n",
        "df_samples['pc2'] = rna_expression_reduced[:,1]\n",
        "\n"
      ]
    },
    {
      "cell_type": "code",
      "execution_count": 22,
      "metadata": {},
      "outputs": [
        {
          "data": {
            "image/png": "[encoded data removed]",
            "text/plain": [
              "<Figure size 640x480 with 1 Axes>"
            ]
          },
          "metadata": {},
          "output_type": "display_data"
        }
      ],
      "source": [
        "# Plot the results\n",
        "import seaborn as sns\n",
        "\n",
        "sns.scatterplot(df_samples, x='pc1',y='pc2', hue='disease')\n",
        "plt.show()\n"
      ]
    },
    {
      "attachments": {},
      "cell_type": "markdown",
      "metadata": {},
      "source": [
        "#### **Exercise 3.4**\n",
        " We will preprocess the data in the following way:\n",
        " \n",
        "- Remove the rows in the dataframe that contain \"NaN\" values for the column `geneCount`.\n",
        "- Remove the genes that have a **total sum** gene count under 100.000\n",
        "\n",
        "\n",
        "\n"
      ]
    },
    {
      "cell_type": "code",
      "execution_count": 23,
      "metadata": {},
      "outputs": [
        {
          "data": {
            "text/plain": [
              "8033"
            ]
          },
          "execution_count": 23,
          "metadata": {},
          "output_type": "execute_result"
        }
      ],
      "source": [
        "# 1. Removing NaN values\n",
        "df.dropna(inplace=True,subset='geneCount')\n",
        "\n",
        "# Insert missing variable here:\n",
        "gene_count_threshold = 100000\n",
        "\n",
        "# 2. Remove genes with low gene count\n",
        "sel = df.groupby('Gene Name', as_index=False).sum()\n",
        "sel = sel[sel.geneCount >= gene_count_threshold]['Gene Name']\n",
        "df = df[df['Gene Name'].isin(sel)]\n",
        "len(df)"
      ]
    },
    {
      "attachments": {},
      "cell_type": "markdown",
      "metadata": {
        "id": "BOYv6dE7vTKe"
      },
      "source": [
        "#### **Exercise 3.5**\n",
        "\n",
        "Complete the missing parts in the following code block. The function is supposed to return the following two measures:\n",
        "\n",
        "Complete the code after the comment blocks for:\n",
        "\n",
        "1. Calculate the foldchange by taking the mean of `tof` and dividing it by the mean of `norm`. Store this into a new variable `fc`. *Hint: you can use the function `np.mean()` if you want to calculate the average.\n",
        "2. The function `ttest_ind()` calculates the statistical difference between two conditions and returns the z-statistic and p-value. One of the conditions has already been filled in, but the other condition is missing after the comma. Fill in the missing condition after the comma.\n",
        "3. Before you can store your foldchange and p-value you need to transform both as follows:\n",
        "  - $log_{2} (FoldChange)$\n",
        "  - $-log_{10} (P value)$\n",
        "\n",
        "*Hint: You can use the functions `np.log2` and `np.log10` for the log transforms*"
      ]
    },
    {
      "cell_type": "code",
      "execution_count": 144,
      "metadata": {
        "id": "AVafFG7JtzCZ"
      },
      "outputs": [],
      "source": [
        "def p_val(x):\n",
        "\n",
        "    # Selecting the both disease conditions\n",
        "    tof = x[x.disease == 'Tetralogy of Fallot']['geneCount']\n",
        "    norm = x[x.disease == 'normal']['geneCount']\n",
        "\n",
        "    ## INSERT CODE HERE (1):\n",
        "    fc = np.mean(tof) / np.mean(norm)\n",
        "    \n",
        "    ## INSERT CODE HERE (2):\n",
        "    z, p = ttest_ind(norm, tof)\n",
        "\n",
        "    ## INSERT CODE HERE (3):\n",
        "    x['foldChange'] = np.log2(fc)\n",
        "    x['pValue'] = -np.log10(p)\n",
        "\n",
        "    # Return your new results\n",
        "    return x"
      ]
    },
    {
      "attachments": {},
      "cell_type": "markdown",
      "metadata": {
        "id": "0iIo8q8q3Vf1"
      },
      "source": [
        "#### **Exercise 3.6**\n",
        "\n",
        "Next step is to apply the function to the dataframe, we want to calculate the p-value and foldchange for every separate gene. There is a convenient function for this in pandas called `groupby()`. Next, we can apply the function to the dataframe by using the function `apply()`.\n",
        "Assign the correct column name to the variable `grouping`.\n",
        "\n"
      ]
    },
    {
      "cell_type": "code",
      "execution_count": 145,
      "metadata": {
        "id": "mM8MtlzEt2Wh"
      },
      "outputs": [],
      "source": [
        "grouping = 'Gene Name'\n",
        "df = df.groupby(grouping, as_index=False).apply(lambda x: p_val(x))"
      ]
    },
    {
      "attachments": {},
      "cell_type": "markdown",
      "metadata": {
        "id": "MGGJgpzM9dM3"
      },
      "source": [
        "#### **Exercise 3.7**\n",
        "\n",
        "Now we come to the most fun part, plotting our results! In the following line you can see two parameters:\n",
        "\n",
        "- `fc_b`: this depicts the cut-off value for the $log_{2}(foldchange)$. This means that you will only see the Gene names appear that are either smaller than `-fc_b` or larger than `fc_b`.\n",
        "- `alpha`: The probability of incorrectly rejecting a true null hypothesis. We want our p-value to be smaller to be able to say that our two conditions are significantly different. By convention the value of 0.05 is most used for the alpha.\n",
        "\n",
        "Play around with both parameters and run both blocks of code to see what happens.\n",
        "\n",
        "When you have a nice collection of genes try to write a small report if the found genes make sense regarding the disease."
      ]
    },
    {
      "cell_type": "code",
      "execution_count": 146,
      "metadata": {
        "id": "X3azfQ-Ct4zM"
      },
      "outputs": [],
      "source": [
        "fc_b = 1.3\n",
        "alpha = 0.05"
      ]
    },
    {
      "cell_type": "code",
      "execution_count": 147,
      "metadata": {
        "id": "AkoAxwBzt69u"
      },
      "outputs": [
        {
          "data": {
            "image/png": "[encoded data removed]",
            "text/plain": [
              "<Figure size 900x600 with 1 Axes>"
            ]
          },
          "metadata": {},
          "output_type": "display_data"
        }
      ],
      "source": [
        "# Initialize figure\n",
        "plt.figure(figsize=(9,6))\n",
        "\n",
        "# log transform the alpha value\n",
        "p_b = -np.log10(alpha)\n",
        "\n",
        "# Start with plotting all points\n",
        "plt.scatter(x=df['foldChange'], y=df['pValue'], s=1, label=\"Not significant\")\n",
        "\n",
        "# highlight down- or up- regulated genes\n",
        "down = df[(df['foldChange'] <= -fc_b) & (df['pValue'] >= p_b)]\n",
        "up = df[(df['foldChange'] >= fc_b) & (df['pValue'] >= p_b)]\n",
        "plt.scatter(x=down['foldChange'], y=down['pValue'],s=3, label=\"Down-regulated\",color=\"blue\")\n",
        "plt.scatter(x=up['foldChange'], y=up['pValue'], s=3, label=\"Up-regulated\",color=\"red\")\n",
        "\n",
        "# Add text to highlighted genes\n",
        "for i, r in up.iterrows():\n",
        "    plt.text(x=r['foldChange'], y=r['pValue'], s=r['Gene Name'])\n",
        "    \n",
        "for i, r in down.iterrows():\n",
        "    plt.text(x=r['foldChange'], y=r['pValue'], s=r['Gene Name'])\n",
        "\n",
        "# Plot layout\n",
        "plt.xlabel(\"log2 FC\")\n",
        "plt.ylabel(\"-log10 p-value\")\n",
        "plt.axvline(-fc_b, color=\"grey\",linestyle=\"--\")\n",
        "plt.axvline(fc_b, color=\"grey\",linestyle=\"--\")\n",
        "plt.axhline(p_b, color=\"grey\",linestyle=\"--\")\n",
        "plt.legend()\n",
        "plt.show()"
      ]
    },
    {
      "attachments": {},
      "cell_type": "markdown",
      "metadata": {
        "id": "RkAzyMws_g0K"
      },
      "source": [
        "References:\n",
        "\n",
        "1. American Heart Association. (2022). Tetralogy of Fallot. Retrieved from https://www.heart.org/en/health-topics/congenital-heart-defects/about-congenital-heart-defects/tetralogy-of-fallot\n",
        "2. Centers for Disease Control and Prevention. (2022). Facts about Tetralogy of Fallot. Retrieved from https://www.cdc.gov/ncbddd/heartdefects/tetralogyoffallot.html\n",
        "4. Mayo Clinic. (2022). Tetralogy of Fallot. Retrieved from https://www.mayoclinic.org/diseases-conditions/tetralogy-of-fallot/symptoms-causes/syc-20353477\n",
        "4. Mocarski, M., & Bilek, L. (2021). Tetralogy of Fallot. StatPearls [Internet]. Retrieved from https://www.ncbi.nlm.nih.gov/books/NBK513263/\n",
        "5. Expression Atlas (EMBI-EBI). Retrieved from https://www.ebi.ac.uk/gxa/home\n",
        "6. Grunert M, Dorn C, Schueler M, Dunkel I, Schlesinger J et al. (2014) Rare and private variations in neural crest, apoptosis and sarcomere genes define the polygenic background of isolated Tetralogy of Fallot.\n"
      ]
    }
  ],
  "metadata": {
    "colab": {
      "provenance": []
    },
    "kernelspec": {
      "display_name": "KG",
      "language": "python",
      "name": "kg"
    },
    "language_info": {
      "codemirror_mode": {
        "name": "ipython",
        "version": 3
      },
      "file_extension": ".py",
      "mimetype": "text/x-python",
      "name": "python",
      "nbconvert_exporter": "python",
      "pygments_lexer": "ipython3",
      "version": "3.11.2"
    }
  },
  "nbformat": 4,
  "nbformat_minor": 0
}
